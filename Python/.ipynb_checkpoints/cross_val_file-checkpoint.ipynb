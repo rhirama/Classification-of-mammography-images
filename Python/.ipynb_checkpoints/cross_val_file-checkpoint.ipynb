{
 "cells": [
  {
   "cell_type": "code",
   "execution_count": 83,
   "metadata": {
    "scrolled": false
   },
   "outputs": [
    {
     "name": "stdout",
     "output_type": "stream",
     "text": [
      "TRAIN: [ 0  1  2  3  4  5  6  8  9 10 11 13 14 15 16 17 18 19 20 22 23 24 25 26\n",
      " 27 28 29 31 32 34 35 36 37 38 39 40 41 42 43 44 45 46 47 48 49 50 52 53] TEST: [ 7 12 21 30 33 51]\n",
      "TRAIN: [ 1  2  3  4  5  6  7  8  9 10 11 12 13 14 15 16 17 18 19 20 21 22 23 24\n",
      " 25 26 27 28 30 32 33 34 35 36 37 38 41 42 43 44 45 46 47 48 49 50 51 53] TEST: [ 0 29 31 39 40 52]\n",
      "TRAIN: [ 0  1  2  4  6  7  8  9 12 13 14 15 16 17 18 19 20 21 22 23 24 25 26 27\n",
      " 28 29 30 31 32 33 35 36 37 38 39 40 42 43 44 45 46 47 48 49 50 51 52 53] TEST: [ 3  5 10 11 34 41]\n",
      "TRAIN: [ 0  1  2  3  5  6  7  8  9 10 11 12 13 14 15 16 17 18 19 20 21 23 25 26\n",
      " 27 28 29 30 31 32 33 34 35 37 38 39 40 41 43 44 45 46 47 48 50 51 52 53] TEST: [ 4 22 24 36 42 49]\n",
      "TRAIN: [ 0  1  3  4  5  6  7  8  9 10 11 12 13 14 15 17 18 19 20 21 22 23 24 27\n",
      " 28 29 30 31 32 33 34 35 36 37 38 39 40 41 42 43 44 45 46 47 48 49 50 51\n",
      " 52] TEST: [ 2 16 25 26 53]\n",
      "TRAIN: [ 0  2  3  4  5  6  7  8  9 10 11 12 13 14 15 16 17 20 21 22 23 24 25 26\n",
      " 28 29 30 31 32 33 34 35 36 37 38 39 40 41 42 43 44 45 47 48 49 50 51 52\n",
      " 53] TEST: [ 1 18 19 27 46]\n",
      "TRAIN: [ 0  1  2  3  4  5  7  8 10 11 12 13 14 16 17 18 19 20 21 22 23 24 25 26\n",
      " 27 28 29 30 31 32 33 34 35 36 37 38 39 40 41 42 43 44 46 47 49 50 51 52\n",
      " 53] TEST: [ 6  9 15 45 48]\n",
      "TRAIN: [ 0  1  2  3  4  5  6  7  8  9 10 11 12 13 14 15 16 17 18 19 21 22 23 24\n",
      " 25 26 27 29 30 31 33 34 36 38 39 40 41 42 43 44 45 46 47 48 49 50 51 52\n",
      " 53] TEST: [20 28 32 35 37]\n",
      "TRAIN: [ 0  1  2  3  4  5  6  7  8  9 10 11 12 14 15 16 18 19 20 21 22 24 25 26\n",
      " 27 28 29 30 31 32 33 34 35 36 37 39 40 41 42 43 44 45 46 48 49 50 51 52\n",
      " 53] TEST: [13 17 23 38 47]\n",
      "TRAIN: [ 0  1  2  3  4  5  6  7  9 10 11 12 13 15 16 17 18 19 20 21 22 23 24 25\n",
      " 26 27 28 29 30 31 32 33 34 35 36 37 38 39 40 41 42 45 46 47 48 49 51 52\n",
      " 53] TEST: [ 8 14 43 44 50]\n"
     ]
    }
   ],
   "source": [
    "from matplotlib import pyplot as plt\n",
    "from sklearn import svm\n",
    "from sklearn.preprocessing import MinMaxScaler\n",
    "from sklearn.model_selection import KFold\n",
    "from pandas import read_csv\n",
    "from pandas import DataFrame\n",
    "from pandas import concat\n",
    "import numpy as np\n",
    "import random\n",
    "\n",
    "dataset_names = ['57EDG', '54BND', 'combined']\n",
    "multipliers = ['0,01', '0,001']\n",
    "\n",
    "for name in dataset_names:\n",
    "    # load dataset\n",
    "    dataset = read_csv(name + '_0,001.csv', header=0, index_col=(0,1))\n",
    "    values = dataset.values\n",
    "    # split the dataset into X, the input; and y, the output\n",
    "    X = values[:, 1:]\n",
    "    y = values[:, 0]\n",
    "\n",
    "    file = open(name + '_kf.txt','w') \n",
    "    random.seed(35)\n",
    "    cross_val = KFold(n_splits = 10, shuffle=True)\n",
    "    for train_index, test_index in cross_val.split(X, y):\n",
    "        print(\"TRAIN:\", train_index, \"TEST:\", test_index)"
   ]
  }
 ],
 "metadata": {
  "kernelspec": {
   "display_name": "Python 3",
   "language": "python",
   "name": "python3"
  },
  "language_info": {
   "codemirror_mode": {
    "name": "ipython",
    "version": 3
   },
   "file_extension": ".py",
   "mimetype": "text/x-python",
   "name": "python",
   "nbconvert_exporter": "python",
   "pygments_lexer": "ipython3",
   "version": "3.7.2"
  }
 },
 "nbformat": 4,
 "nbformat_minor": 2
}
