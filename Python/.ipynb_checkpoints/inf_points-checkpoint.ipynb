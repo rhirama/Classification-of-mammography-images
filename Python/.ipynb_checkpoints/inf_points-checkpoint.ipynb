{
 "cells": [
  {
   "cell_type": "code",
   "execution_count": 107,
   "metadata": {},
   "outputs": [
    {
     "data": {
      "image/png": "[encoded data removed]",
      "text/plain": [
       "<PIL.Image.Image image mode=L size=671x692 at 0x180D13CFB00>"
      ]
     },
     "execution_count": 107,
     "metadata": {},
     "output_type": "execute_result"
    }
   ],
   "source": [
    "import cv2\n",
    "import numpy as np\n",
    "from PIL import Image\n",
    "\n",
    "img = cv2.imread('mano.jpg')\n",
    "img = cv2.cvtColor(img, cv2.COLOR_BGR2GRAY)\n",
    "canvas = np.zeros(img.shape, np.uint8)\n",
    "ret, thresh = cv2.threshold(img, 30, 255, cv2.THRESH_BINARY)\n",
    "contours, hierarchy = cv2.findContours(thresh, cv2.RETR_TREE, cv2.CHAIN_APPROX_SIMPLE)\n",
    "cv2.drawContours(canvas, contours, 0, (128, 128, 128), 1)\n",
    "\n",
    "Image.fromarray(canvas)"
   ]
  },
  {
   "cell_type": "code",
   "execution_count": 108,
   "metadata": {
    "scrolled": false
   },
   "outputs": [
    {
     "data": {
      "image/png": "[encoded data removed]",
      "text/plain": [
       "<PIL.Image.Image image mode=L size=671x692 at 0x180D13AE710>"
      ]
     },
     "execution_count": 108,
     "metadata": {},
     "output_type": "execute_result"
    }
   ],
   "source": [
    "cnt = contours[0]\n",
    "_, _, w, h = cv2.boundingRect(cnt)\n",
    "# multiplier = 0.01\n",
    "# perimeter = int(cv2.arcLength(cnt, True))\n",
    "# epsilon = multiplier * perimeter\n",
    "# approx = cv2.approxPolyDP(cnt, epsilon, True)\n",
    "\n",
    "end = np.copy(approx[-3:])\n",
    "approx = np.concatenate((end, cnt), axis=0)\n",
    "\n",
    "y = np.copy(approx[:, 0, 0])\n",
    "x = np.copy(approx[:, 0, 1])\n",
    "\n",
    "# if w > h:\n",
    "#     x = x/w\n",
    "#     y = y/w\n",
    "# else:\n",
    "#     x = x/h\n",
    "#     y = y/h\n",
    "\n",
    "x_first = np.diff(x)\n",
    "x_second = np.diff(x_first)\n",
    "x_third = np.diff(x_second)\n",
    "\n",
    "y_first = np.diff(y)\n",
    "y_second = np.diff(y_first)\n",
    "y_third = np.diff(y_second)\n",
    "\n",
    "inf_p = []\n",
    "\n",
    "for i in range(x_third.shape[0]):\n",
    "    salve = (x_second[i]*y_first[i]) - (y_second[i]*x_first[i])\n",
    "    bora = (x_first[i]*y_third[i]) - (x_third[i]*y_first[i])\n",
    "    if salve == 0:\n",
    "        if bora == 0:\n",
    "            cv2.drawContours(canvas, approx, i, (255, 255, 255), 5)\n",
    "\n",
    "Image.fromarray(canvas)         "
   ]
  },
  {
   "cell_type": "code",
   "execution_count": null,
   "metadata": {},
   "outputs": [],
   "source": []
  }
 ],
 "metadata": {
  "kernelspec": {
   "display_name": "Python 3",
   "language": "python",
   "name": "python3"
  },
  "language_info": {
   "codemirror_mode": {
    "name": "ipython",
    "version": 3
   },
   "file_extension": ".py",
   "mimetype": "text/x-python",
   "name": "python",
   "nbconvert_exporter": "python",
   "pygments_lexer": "ipython3",
   "version": "3.6.8"
  }
 },
 "nbformat": 4,
 "nbformat_minor": 2
}
