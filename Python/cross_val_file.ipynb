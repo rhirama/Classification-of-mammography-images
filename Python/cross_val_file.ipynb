{
 "cells": [
  {
   "cell_type": "code",
   "execution_count": 6,
   "metadata": {
    "scrolled": false
   },
   "outputs": [],
   "source": [
    "from matplotlib import pyplot as plt\n",
    "from sklearn import svm\n",
    "from sklearn.preprocessing import MinMaxScaler\n",
    "from sklearn.model_selection import KFold\n",
    "from pandas import read_csv\n",
    "from pandas import DataFrame\n",
    "from pandas import concat\n",
    "import numpy as np\n",
    "import random\n",
    "\n",
    "dataset_names = ['57EDG', '54BND', 'combined']\n",
    "multipliers = ['0,01', '0,001']\n",
    "\n",
    "for name in dataset_names:\n",
    "    # load dataset\n",
    "    dataset = read_csv(name + '_0,001.csv', header=0, index_col=(0,1))\n",
    "    values = dataset.values\n",
    "    # split the dataset into X, the input; and y, the output\n",
    "    X = values[:, 1:]\n",
    "    y = values[:, 0]\n",
    "\n",
    "    file = open(name + '_kf.txt','w') \n",
    "    \n",
    "    random.seed(35)\n",
    "    cross_val = KFold(n_splits = 20, shuffle=True)\n",
    "    for train_index, test_index in cross_val.split(X, y):\n",
    "        file.write(str(train_index))\n",
    "        file.write('\\n')\n",
    "        file.write(str(test_index))\n",
    "        file.write('\\n')\n",
    "    file.close()\n",
    "    \n",
    "    "
   ]
  },
  {
   "cell_type": "code",
   "execution_count": 5,
   "metadata": {},
   "outputs": [],
   "source": [
    "name = 'combined'\n",
    "dataset = read_csv(name + '_0,001.csv', header=0, index_col=(0,1))\n",
    "values = dataset.values\n",
    "# split the dataset into X, the input; and y, the output\n",
    "X = values[:, 1:]\n",
    "y = values[:, 0]\n",
    "\n",
    "file = open(name + '_kf.txt','w') \n",
    "\n",
    "random.seed(35)\n",
    "cross_val = KFold(n_splits = 20, shuffle=True)\n",
    "for train_index, test_index in cross_val.split(X, y):\n",
    "    file.write(str(train_index))\n",
    "    file.write('\\n')\n",
    "    file.write(str(test_index))\n",
    "    file.write('\\n')\n",
    "file.close()\n"
   ]
  }
 ],
 "metadata": {
  "kernelspec": {
   "display_name": "Python 3",
   "language": "python",
   "name": "python3"
  },
  "language_info": {
   "codemirror_mode": {
    "name": "ipython",
    "version": 3
   },
   "file_extension": ".py",
   "mimetype": "text/x-python",
   "name": "python",
   "nbconvert_exporter": "python",
   "pygments_lexer": "ipython3",
   "version": "3.7.2"
  }
 },
 "nbformat": 4,
 "nbformat_minor": 2
}
